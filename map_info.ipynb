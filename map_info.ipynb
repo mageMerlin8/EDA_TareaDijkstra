{
 "cells": [
  {
   "cell_type": "code",
   "execution_count": 52,
   "metadata": {},
   "outputs": [],
   "source": [
    "import requests,json"
   ]
  },
  {
   "cell_type": "code",
   "execution_count": 121,
   "metadata": {},
   "outputs": [],
   "source": [
    "key = open('key.txt', 'r').readline()[:-1]"
   ]
  },
  {
   "cell_type": "code",
   "execution_count": 122,
   "metadata": {},
   "outputs": [],
   "source": [
    "def createRequest(ori, des):\n",
    "    url = 'https://maps.googleapis.com/maps/api/distancematrix/json?'\n",
    "    \n",
    "    origins = 'origins='\n",
    "    ori = [ i.replace(' ', '+') for i in ori]\n",
    "    for i in ori:\n",
    "        origins += i + '|'\n",
    "    origins = origins[:-1]\n",
    "    \n",
    "    destinations = '&destinations='\n",
    "    des = [ i.replace(' ', '+') for i in des]\n",
    "    for i in des:\n",
    "        destinations += i + '|'\n",
    "    destinations = destinations[:-1]\n",
    "    \n",
    "    return url+origins+destinations+key\n",
    "\n",
    "def edgesFromResponseDis(response):\n",
    "    jResp = response.json()\n",
    "    resp = []\n",
    "    lDes = jResp['destination_addresses']\n",
    "    print(lDes)\n",
    "    lOri = jResp['origin_addresses']\n",
    "    print(lOri)\n",
    "    i = 0\n",
    "    for ori in lOri:\n",
    "        j = 0\n",
    "        for des in lDes:\n",
    "            resp.append([ori, des, {'weight':jResp['rows'][i]['elements'][j]['distance']['value']}])\n",
    "            j += 1\n",
    "        i += 1\n",
    "    return resp\n",
    "\n",
    "def edgesFromResponseTime(response):\n",
    "    jResp = response.json()\n",
    "    resp = []\n",
    "    lDes = jResp['destination_addresses']\n",
    "    print(lDes)\n",
    "    lOri = jResp['origin_addresses']\n",
    "    print(lOri)\n",
    "    i = 0\n",
    "    for ori in lOri:\n",
    "        j = 0\n",
    "        for des in lDes:\n",
    "            resp.append([ori, des, {'weight':jResp['rows'][i]['elements'][j]['duration']['value']}])\n",
    "            j += 1\n",
    "        i += 1\n",
    "    return resp"
   ]
  },
  {
   "cell_type": "markdown",
   "metadata": {},
   "source": [
    "Baja California"
   ]
  },
  {
   "cell_type": "code",
   "execution_count": 83,
   "metadata": {},
   "outputs": [],
   "source": [
    "origins = ['Tijuana Baja California', 'Ensenada Baja California']\n",
    "destinations = ['Tecate Baja California', 'Hermosillo']"
   ]
  },
  {
   "cell_type": "code",
   "execution_count": 84,
   "metadata": {},
   "outputs": [],
   "source": [
    "rq = createRequest(origins, destinations)"
   ]
  },
  {
   "cell_type": "code",
   "execution_count": 85,
   "metadata": {},
   "outputs": [
    {
     "data": {
      "text/plain": [
       "<Response [200]>"
      ]
     },
     "execution_count": 85,
     "metadata": {},
     "output_type": "execute_result"
    }
   ],
   "source": [
    "resp = requests.post(rq)\n",
    "resp"
   ]
  },
  {
   "cell_type": "code",
   "execution_count": 86,
   "metadata": {},
   "outputs": [
    {
     "data": {
      "text/plain": [
       "{'destination_addresses': ['Tecate, Baja California, Mexico',\n",
       "  'Hermosillo, Sonora, Mexico'],\n",
       " 'origin_addresses': ['Tijuana, Baja California, Mexico',\n",
       "  'Ensenada, Baja California, Mexico'],\n",
       " 'rows': [{'elements': [{'distance': {'text': '51.5 km', 'value': 51504},\n",
       "     'duration': {'text': '52 mins', 'value': 3123},\n",
       "     'status': 'OK'},\n",
       "    {'distance': {'text': '875 km', 'value': 874877},\n",
       "     'duration': {'text': '9 hours 56 mins', 'value': 35754},\n",
       "     'status': 'OK'}]},\n",
       "  {'elements': [{'distance': {'text': '108 km', 'value': 108465},\n",
       "     'duration': {'text': '1 hour 33 mins', 'value': 5565},\n",
       "     'status': 'OK'},\n",
       "    {'distance': {'text': '932 km', 'value': 932133},\n",
       "     'duration': {'text': '10 hours 38 mins', 'value': 38266},\n",
       "     'status': 'OK'}]}],\n",
       " 'status': 'OK'}"
      ]
     },
     "execution_count": 86,
     "metadata": {},
     "output_type": "execute_result"
    }
   ],
   "source": [
    "resp.json()"
   ]
  },
  {
   "cell_type": "code",
   "execution_count": 82,
   "metadata": {},
   "outputs": [
    {
     "data": {
      "text/plain": [
       "{'text': '51.5 km', 'value': 51504}"
      ]
     },
     "execution_count": 82,
     "metadata": {},
     "output_type": "execute_result"
    }
   ],
   "source": [
    "resp.json()['rows'][0]['elements'][0]['distance']"
   ]
  },
  {
   "cell_type": "code",
   "execution_count": 87,
   "metadata": {},
   "outputs": [
    {
     "data": {
      "text/plain": [
       "['Tecate, Baja California, Mexico', 'Hermosillo, Sonora, Mexico']"
      ]
     },
     "execution_count": 87,
     "metadata": {},
     "output_type": "execute_result"
    }
   ],
   "source": [
    "resp.json()['destination_addresses']"
   ]
  },
  {
   "cell_type": "code",
   "execution_count": 112,
   "metadata": {},
   "outputs": [
    {
     "data": {
      "text/plain": [
       "[(1, 0), (1, 1), (1, 2), (1, 3), (1, 4)]"
      ]
     },
     "execution_count": 112,
     "metadata": {},
     "output_type": "execute_result"
    }
   ],
   "source": [
    "a=range(5)\n",
    "b=range(5)\n",
    "[u for u in  zip([1]*5,b)]"
   ]
  },
  {
   "cell_type": "code",
   "execution_count": 103,
   "metadata": {},
   "outputs": [
    {
     "name": "stdout",
     "output_type": "stream",
     "text": [
      "['Tecate, Baja California, Mexico', 'Hermosillo, Sonora, Mexico']\n",
      "['Tijuana, Baja California, Mexico', 'Ensenada, Baja California, Mexico']\n",
      "[['Tijuana, Baja California, Mexico', 'Tecate, Baja California, Mexico', {'weight': 51504}], ['Tijuana, Baja California, Mexico', 'Hermosillo, Sonora, Mexico', {'weight': 874877}], ['Ensenada, Baja California, Mexico', 'Tecate, Baja California, Mexico', {'weight': 108465}], ['Ensenada, Baja California, Mexico', 'Hermosillo, Sonora, Mexico', {'weight': 932133}]]\n"
     ]
    }
   ],
   "source": [
    "a=addNodes(resp)\n",
    "print(a)"
   ]
  },
  {
   "cell_type": "raw",
   "metadata": {},
   "source": [
    "{'destination_addresses': ['Tecate, Baja California, Mexico','Hermosillo, Sonora, Mexico'],\n",
    " 'origin_addresses':      ['Tijuana, Baja California, Mexico','Ensenada, Baja California, Mexico'],\n",
    " 'rows': [{'elements': [{'distance': {'text': '51.5 km', 'value': 51504},\n",
    "                         'duration': {'text': '52 mins', 'value': 3123},\n",
    "                         'status': 'OK'},\n",
    "                        {'distance': {'text': '875 km', 'value': 874877},\n",
    "                         'duration': {'text': '9 hours 56 mins', 'value': 35754},\n",
    "                         'status': 'OK'}]},\n",
    "         {'elements': [{'distance': {'text': '108 km', 'value': 108465},\n",
    "                         'duration': {'text': '1 hour 33 mins', 'value': 5565},\n",
    "                         'status': 'OK'},\n",
    "                       {'distance': {'text': '932 km', 'value': 932133},\n",
    "                        'duration': {'text': '10 hours 38 mins', 'value': 38266},\n",
    "                        'status': 'OK'}]}],\n",
    " 'status': 'OK'}"
   ]
  }
 ],
 "metadata": {
  "kernelspec": {
   "display_name": "Python 3",
   "language": "python",
   "name": "python3"
  },
  "language_info": {
   "codemirror_mode": {
    "name": "ipython",
    "version": 3
   },
   "file_extension": ".py",
   "mimetype": "text/x-python",
   "name": "python",
   "nbconvert_exporter": "python",
   "pygments_lexer": "ipython3",
   "version": "3.6.6"
  }
 },
 "nbformat": 4,
 "nbformat_minor": 2
}
