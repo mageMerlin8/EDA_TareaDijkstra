{
 "cells": [
  {
   "cell_type": "code",
   "execution_count": 66,
   "metadata": {},
   "outputs": [],
   "source": [
    "import requests,json\n",
    "import networkx as nx"
   ]
  },
  {
   "cell_type": "code",
   "execution_count": 67,
   "metadata": {},
   "outputs": [],
   "source": [
    "key = open('key.txt', 'r').readline()[:-1]"
   ]
  },
  {
   "cell_type": "code",
   "execution_count": 68,
   "metadata": {},
   "outputs": [],
   "source": [
    "def createRequest(ori, des):\n",
    "    url = 'https://maps.googleapis.com/maps/api/distancematrix/json?'\n",
    "    \n",
    "    origins = 'origins='\n",
    "    ori = [ i.replace(' ', '+') for i in ori]\n",
    "    for i in ori:\n",
    "        origins += i + '|'\n",
    "    origins = origins[:-1]\n",
    "    \n",
    "    destinations = '&destinations='\n",
    "    des = [ i.replace(' ', '+') for i in des]\n",
    "    for i in des:\n",
    "        destinations += i + '|'\n",
    "    destinations = destinations[:-1]\n",
    "    \n",
    "    return url+origins+destinations+key\n",
    "\n",
    "def edgesFromResponseDis(response):\n",
    "    jResp = response.json()\n",
    "    resp = []\n",
    "    lDes = jResp['destination_addresses']\n",
    "    lOri = jResp['origin_addresses']\n",
    "    i = 0\n",
    "    for ori in lOri:\n",
    "        j = 0\n",
    "        for des in lDes:\n",
    "            resp.append([ori, des, {'weight':jResp['rows'][i]['elements'][j]['distance']['value']}])\n",
    "            j += 1\n",
    "        i += 1\n",
    "    return resp\n",
    "\n",
    "def edgesFromResponseTime(response):\n",
    "    jResp = response.json()\n",
    "    resp = []\n",
    "    lDes = jResp['destination_addresses']\n",
    "    lOri = jResp['origin_addresses']\n",
    "    i = 0\n",
    "    for ori in lOri:\n",
    "        j = 0\n",
    "        for des in lDes:\n",
    "            resp.append([ori, des, {'weight':jResp['rows'][i]['elements'][j]['duration']['value']}])\n",
    "            j += 1\n",
    "        i += 1\n",
    "    return resp"
   ]
  },
  {
   "cell_type": "code",
   "execution_count": 69,
   "metadata": {},
   "outputs": [],
   "source": [
    "origenes = [['Mexicali'],\n",
    "['Hermosillo'],\n",
    "['Chihuahua Chihuahua'],\n",
    "['Culiacan'],\n",
    "['Monterrey'],\n",
    "['Saltillo Choahuila'],\n",
    "['Victoria de Durango'],\n",
    "['Tepic'],\n",
    "['Zacatecas'],\n",
    "['Ciudad Victoria'],\n",
    "['Colima'],\n",
    "['Morelia'],\n",
    "['Guanajuato'],\n",
    "['Aguascalientes'],\n",
    "['Pachuca'],\n",
    "['Toluca'],\n",
    "['Queretaro'],\n",
    "['San Luis Potosi'],\n",
    "['Guadalajara']]\n"
   ]
  },
  {
   "cell_type": "code",
   "execution_count": 70,
   "metadata": {},
   "outputs": [],
   "source": [
    "destinos = [['La Paz baja california','Hermosillo','Chihuahua Chihuahua'],\n",
    "['Chihuahua Chihuahua','Culiacan'],\n",
    "['Victoria de Durango', 'Zacatecas','Saltillo','Monterrey'],\n",
    "['Victoria de Durango','Tepic'],\n",
    "['Victoria de Durango','Saltillo','Cd. Victoria', 'San Luis Potosi'],\n",
    "['Victoria de Durango','Zacatecas','San Luis Potosi'],\n",
    "['Tepic','Zacatecas','San Luis Potosi'],\n",
    "['Guadalajara'],\n",
    "['Aguascalientes'],\n",
    "['San Luis Potosi'],\n",
    "['Guadalajara'],\n",
    "['Toluca','Guadalajara','Guanajuato'],\n",
    "['Queretaro','San Luis Potosi','Aguascalientes'],\n",
    "['Guadalajara','San Luis Potosi'],\n",
    "['Queretaro','Toluca','Guadalajara'],\n",
    "['Queretaro','Guadalajara'],\n",
    "['Guanajuato','San Luis Potosi'],\n",
    "['Guadalajara'],\n",
    "['Guanajuato'],\n",
    "]"
   ]
  },
  {
   "cell_type": "code",
   "execution_count": 72,
   "metadata": {},
   "outputs": [
    {
     "name": "stdout",
     "output_type": "stream",
     "text": [
      "<Response [200]>\n",
      "<Response [200]>\n",
      "<Response [200]>\n",
      "<Response [200]>\n",
      "<Response [200]>\n",
      "<Response [200]>\n",
      "<Response [200]>\n",
      "<Response [200]>\n",
      "<Response [200]>\n",
      "<Response [200]>\n",
      "<Response [200]>\n",
      "<Response [200]>\n",
      "<Response [200]>\n",
      "<Response [200]>\n",
      "<Response [200]>\n",
      "<Response [200]>\n",
      "<Response [200]>\n",
      "<Response [200]>\n",
      "<Response [200]>\n",
      "done\n"
     ]
    }
   ],
   "source": [
    "edges = []\n",
    "for ori, des in zip(origenes, destinos):\n",
    "    request = createRequest(ori, des)\n",
    "    response = requests.post(request)\n",
    "    edges += edgesFromResponseDis(response)\n",
    "    print(response)\n",
    "print('done')\n",
    "    \n",
    "    "
   ]
  },
  {
   "cell_type": "code",
   "execution_count": 73,
   "metadata": {},
   "outputs": [],
   "source": [
    "gMap = nx.Graph()\n",
    "gMap.add_edges_from(edges)"
   ]
  },
  {
   "cell_type": "code",
   "execution_count": null,
   "metadata": {},
   "outputs": [],
   "source": []
  }
 ],
 "metadata": {
  "kernelspec": {
   "display_name": "Python 3",
   "language": "python",
   "name": "python3"
  },
  "language_info": {
   "codemirror_mode": {
    "name": "ipython",
    "version": 3
   },
   "file_extension": ".py",
   "mimetype": "text/x-python",
   "name": "python",
   "nbconvert_exporter": "python",
   "pygments_lexer": "ipython3",
   "version": "3.6.6"
  }
 },
 "nbformat": 4,
 "nbformat_minor": 2
}
