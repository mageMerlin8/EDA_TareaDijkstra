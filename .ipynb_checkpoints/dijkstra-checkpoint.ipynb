{
 "cells": [
  {
   "cell_type": "markdown",
   "metadata": {},
   "source": [
    "# Gráficas, Dijkstra y Floyd"
   ]
  },
  {
   "cell_type": "code",
   "execution_count": 63,
   "metadata": {},
   "outputs": [],
   "source": [
    "import networkx as nx\n",
    "import random as rnd\n",
    "import matplotlib.pyplot as plt\n",
    "import numpy as np\n",
    "import scipy as sp"
   ]
  },
  {
   "cell_type": "code",
   "execution_count": 71,
   "metadata": {},
   "outputs": [],
   "source": [
    "\"\"\"regresa una lista o diccionario con las distancias\n",
    "   (suma de pesos sobre el camino) del nodo ini a todos\n",
    "   los otros nodos\"\"\"\n",
    "def dijkstra(g, ini):\n",
    "    if(ini not in g): \n",
    "        print('nodo no encontrado en la grafica')\n",
    "        return 0\n",
    "    \n",
    "    # crea una nueva grafica para guardar las distancias \"pathG\"\n",
    "    pathG = nx.Graph(g);\n",
    "    \n",
    "    \n",
    "    #agrega el atribto de distancia a todos los nodos\n",
    "    #usa 0 para el nodo de inicio y -1 para infinito\n",
    "    for n in pathG.nodes:\n",
    "        if(n == ini): \n",
    "            pathG.nodes[n]['dis'] = 0\n",
    "        else:\n",
    "            pathG.nodes[n]['dis'] = -1       \n",
    "\n",
    "    visited = []\n",
    "    while(set(visited) != set(g.nodes)):\n",
    "        nextNode = getNext(pathG, visited)\n",
    "        \n",
    "        visited.append(nextNode)\n",
    "        \n",
    "        updateDist(pathG, nextNode)\n",
    "    return pathG\n",
    "\n",
    "\"\"\"Metodo auxiliar para encontrar el siguiente nodo a analizar\"\"\"\n",
    "def getNext(g, visited):    \n",
    "    dists = {u:v['dis'] for u,v in g.nodes.data() if u not in visited and v['dis'] !=-1}\n",
    "    return min(dists, key=dists.get)\n",
    "\n",
    "\"\"\"Metodo auxiliar para cambiar los valores de las distancias sobre la grafica de distancias\"\"\"\n",
    "def updateDist(g, node):\n",
    "    distToNode = g.nodes[node]['dis']\n",
    "    for nbr in g[node]:\n",
    "        distFromNode = distToNode + g.edges[node, nbr]['weight']\n",
    "        if(g.nodes[nbr]['dis'] == -1 or g.nodes[nbr]['dis'] > distFromNode):\n",
    "            g.nodes[nbr]['dis'] = distFromNode      \n",
    "            \n",
    "def pintaGraficaDijkstra(g):\n",
    "    \n",
    "    dist = [v['dis'] for u,v in g.nodes.data() ]\n",
    "    labs = {u:str(v['dis']) for u,v in g.nodes.data() }\n",
    "    \n",
    "    #fija la posicion de los nodos\n",
    "    ps = nx.spring_layout(g)\n",
    "    #pinta los nodos con sus nombres\n",
    "    nx.draw(g, pos=ps , node_color = dist, cmap = plt.cm.Blues)\n",
    "    nx.draw_networkx_labels(g, pos = ps, labels=labs)\n",
    "    \n",
    "    #crea diccionario de edge:weight para poner el peso sobre las aristas\n",
    "    ed_labels = { (u,v):w['weight'] for u, v, w in g.edges.data()}\n",
    "    \n",
    "    nx.draw_networkx_edge_labels(g, pos=ps, edge_labels=ed_labels)\n",
    "    \n",
    "    \n",
    "def pintaGrafica(g, labs=None):\n",
    "    #fija la posicion de los nodos\n",
    "    ps = nx.spring_layout(g)\n",
    "    #pinta los nodos con sus nombres\n",
    "    nx.draw(g, pos=ps ,with_labels=True)\n",
    "    \n",
    "    #crea diccionario de edge:weight para poner en las aristas el peso\n",
    "    ed_labels = { (u,v):w['weight'] for u, v, w in g.edges.data()}\n",
    "    \n",
    "    nx.draw_networkx_edge_labels(g, pos=ps, edge_labels=ed_labels)\n",
    "    \n"
   ]
  },
  {
   "cell_type": "code",
   "execution_count": null,
   "metadata": {},
   "outputs": [],
   "source": [
    "def floyd(g):\n",
    "    #se crea la matriz de adjacencia desde la libreria de grafica\n",
    "    mat = np.array([[-1]*len(g.nodes)]*len(g.nodes))\n",
    "    for i in range(len(g.nodes)):\n",
    "        mat[i, i] = 0\n",
    "    iss,js,ws = sp.sparse.find(nx.adjacency_matrix(g))\n",
    "    for i,j,w in zip(iss,js,ws):\n",
    "        mat[i,j] = w \n",
    "        \n",
    "    #se corre floyd sobre la matriz\n",
    "    for k in range(len(g.nodes)):\n",
    "        for i in range(len(g.nodes)):\n",
    "            for j in range(len(g.nodes)):\n",
    "                if(mat[i][k] > 0 and mat[k][j] > 0):\n",
    "                    if(mat[i, j] == -1):\n",
    "                        mat[i, j] = mat[i][k] + mat[k][j]\n",
    "                    else:\n",
    "                        mat[i, j] = min(mat[i][j], mat[i][k] + mat[k][j])\n",
    "    return mat\n"
   ]
  },
  {
   "cell_type": "markdown",
   "metadata": {},
   "source": [
    "# Pruebas"
   ]
  },
  {
   "cell_type": "code",
   "execution_count": 64,
   "metadata": {},
   "outputs": [],
   "source": [
    "g = nx.Graph()"
   ]
  },
  {
   "cell_type": "code",
   "execution_count": 65,
   "metadata": {},
   "outputs": [],
   "source": [
    "g.add_nodes_from((i for i in range (10)))"
   ]
  },
  {
   "cell_type": "code",
   "execution_count": 66,
   "metadata": {},
   "outputs": [
    {
     "data": {
      "text/plain": [
       "[0, 1, 2, 3, 4, 5, 6, 7, 8, 9]"
      ]
     },
     "execution_count": 66,
     "metadata": {},
     "output_type": "execute_result"
    }
   ],
   "source": [
    "list(g.nodes)"
   ]
  },
  {
   "cell_type": "code",
   "execution_count": 67,
   "metadata": {},
   "outputs": [],
   "source": [
    "lisEd = [(9,7),(7,8),(8,6),(6,0),(0,2),(0,1),(1,5),(5,3),(5,10),(3,10),(10,4),(7,0),(7,3)];"
   ]
  },
  {
   "cell_type": "code",
   "execution_count": 68,
   "metadata": {},
   "outputs": [],
   "source": [
    "for edge in lisEd:\n",
    "    g.add_edge(edge[0], edge[1], weight = rnd.randint(1,9))"
   ]
  },
  {
   "cell_type": "code",
   "execution_count": 70,
   "metadata": {},
   "outputs": [
    {
     "name": "stdout",
     "output_type": "stream",
     "text": [
      "(0, 6){'weight': 2}\n",
      "(0, 2){'weight': 1}\n",
      "(0, 1){'weight': 3}\n",
      "(0, 7){'weight': 5}\n",
      "(1, 5){'weight': 1}\n",
      "(3, 5){'weight': 8}\n",
      "(3, 10){'weight': 5}\n",
      "(3, 7){'weight': 2}\n",
      "(4, 10){'weight': 1}\n",
      "(5, 10){'weight': 8}\n",
      "(6, 8){'weight': 3}\n",
      "(7, 9){'weight': 8}\n",
      "(7, 8){'weight': 8}\n"
     ]
    }
   ],
   "source": [
    "for e in g.edges:\n",
    "    print(str(e) + str(g[e[0]][e[1]]))"
   ]
  },
  {
   "cell_type": "code",
   "execution_count": null,
   "metadata": {},
   "outputs": [],
   "source": [
    "list(g.edges.data())\n",
    "ed_labels = {(u,v):w['weight'] for u, v, w in g.edges.data()}\n",
    "ed_labels"
   ]
  },
  {
   "cell_type": "code",
   "execution_count": 204,
   "metadata": {},
   "outputs": [],
   "source": [
    "pathD = dijkstra(g,0)\n",
    "matFloyd = floyd(g)"
   ]
  },
  {
   "cell_type": "code",
   "execution_count": 74,
   "metadata": {},
   "outputs": [
    {
     "data": {
      "image/png": "[encoded data removed]",
      "text/plain": [
       "<Figure size 432x288 with 1 Axes>"
      ]
     },
     "metadata": {},
     "output_type": "display_data"
    }
   ],
   "source": [
    "pintaGraficaDijkstra(path)"
   ]
  },
  {
   "cell_type": "code",
   "execution_count": 83,
   "metadata": {},
   "outputs": [
    {
     "data": {
      "image/png": "[encoded data removed]",
      "text/plain": [
       "<Figure size 432x288 with 1 Axes>"
      ]
     },
     "metadata": {},
     "output_type": "display_data"
    }
   ],
   "source": [
    "pintaGrafica(path)"
   ]
  },
  {
   "cell_type": "code",
   "execution_count": 200,
   "metadata": {},
   "outputs": [],
   "source": [
    "\n"
   ]
  },
  {
   "cell_type": "code",
   "execution_count": 201,
   "metadata": {},
   "outputs": [],
   "source": [
    "fl = floyd(g)"
   ]
  },
  {
   "cell_type": "code",
   "execution_count": 202,
   "metadata": {},
   "outputs": [
    {
     "data": {
      "text/plain": [
       "array([[ 0,  3,  1,  7, 13,  4,  2,  5,  5, 13, 12],\n",
       "       [ 3,  0,  4,  9, 10,  1,  5,  8,  8, 16,  9],\n",
       "       [ 1,  4,  0,  8, 14,  5,  3,  6,  6, 14, 13],\n",
       "       [ 7,  9,  8,  0,  6,  8,  9,  2, 10, 10,  5],\n",
       "       [13, 10, 14,  6,  0,  9, 15,  8, 16, 16,  1],\n",
       "       [ 4,  1,  5,  8,  9,  0,  6,  9,  9, 17,  8],\n",
       "       [ 2,  5,  3,  9, 15,  6,  0,  7,  3, 15, 14],\n",
       "       [ 5,  8,  6,  2,  8,  9,  7,  0,  8,  8,  7],\n",
       "       [ 5,  8,  6, 10, 16,  9,  3,  8,  0, 16, 15],\n",
       "       [13, 16, 14, 10, 16, 17, 15,  8, 16,  0, 15],\n",
       "       [12,  9, 13,  5,  1,  8, 14,  7, 15, 15,  0]])"
      ]
     },
     "execution_count": 202,
     "metadata": {},
     "output_type": "execute_result"
    }
   ],
   "source": [
    "fl"
   ]
  }
 ],
 "metadata": {
  "kernelspec": {
   "display_name": "Python 3",
   "language": "python",
   "name": "python3"
  },
  "language_info": {
   "codemirror_mode": {
    "name": "ipython",
    "version": 3
   },
   "file_extension": ".py",
   "mimetype": "text/x-python",
   "name": "python",
   "nbconvert_exporter": "python",
   "pygments_lexer": "ipython3",
   "version": "3.6.6"
  }
 },
 "nbformat": 4,
 "nbformat_minor": 2
}
