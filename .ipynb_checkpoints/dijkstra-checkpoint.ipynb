{
 "cells": [
  {
   "cell_type": "markdown",
   "metadata": {},
   "source": [
    "# Gráficas, Dijkstra y Floyd"
   ]
  },
  {
   "cell_type": "code",
   "execution_count": 118,
   "metadata": {},
   "outputs": [],
   "source": [
    "import networkx as nx\n",
    "import random as rnd"
   ]
  },
  {
   "cell_type": "code",
   "execution_count": 119,
   "metadata": {},
   "outputs": [],
   "source": [
    "g = nx.Graph()"
   ]
  },
  {
   "cell_type": "code",
   "execution_count": 120,
   "metadata": {},
   "outputs": [],
   "source": [
    "g.add_nodes_from((i for i in range (10)))"
   ]
  },
  {
   "cell_type": "code",
   "execution_count": 121,
   "metadata": {},
   "outputs": [
    {
     "data": {
      "text/plain": [
       "[0, 1, 2, 3, 4, 5, 6, 7, 8, 9]"
      ]
     },
     "execution_count": 121,
     "metadata": {},
     "output_type": "execute_result"
    }
   ],
   "source": [
    "list(g.nodes)"
   ]
  },
  {
   "cell_type": "code",
   "execution_count": 122,
   "metadata": {},
   "outputs": [],
   "source": [
    "lisEd = [(9,7),(7,8),(8,6),(6,0),(0,2),(0,1),(1,5),(5,3),(5,10),(3,10),(10,4),(7,0),(7,3)];"
   ]
  },
  {
   "cell_type": "code",
   "execution_count": 123,
   "metadata": {},
   "outputs": [],
   "source": [
    "for edge in lisEd:\n",
    "    g.add_edge(edge[0], edge[1], weight = rnd.randint(1,9))"
   ]
  },
  {
   "cell_type": "code",
   "execution_count": 124,
   "metadata": {},
   "outputs": [
    {
     "data": {
      "text/plain": [
       "[(0, 6),\n",
       " (0, 2),\n",
       " (0, 1),\n",
       " (0, 7),\n",
       " (1, 5),\n",
       " (3, 5),\n",
       " (3, 10),\n",
       " (3, 7),\n",
       " (4, 10),\n",
       " (5, 10),\n",
       " (6, 8),\n",
       " (7, 9),\n",
       " (7, 8)]"
      ]
     },
     "execution_count": 124,
     "metadata": {},
     "output_type": "execute_result"
    }
   ],
   "source": [
    "list(g.edges,)"
   ]
  },
  {
   "cell_type": "code",
   "execution_count": 125,
   "metadata": {},
   "outputs": [
    {
     "data": {
      "image/png": "[encoded data removed]",
      "text/plain": [
       "<Figure size 432x288 with 1 Axes>"
      ]
     },
     "metadata": {},
     "output_type": "display_data"
    }
   ],
   "source": [
    "nx.draw(g, with_labels=True, edge_labels=True)"
   ]
  },
  {
   "cell_type": "code",
   "execution_count": 126,
   "metadata": {},
   "outputs": [
    {
     "data": {
      "text/plain": [
       "True"
      ]
     },
     "execution_count": 126,
     "metadata": {},
     "output_type": "execute_result"
    }
   ],
   "source": [
    " 2 in g"
   ]
  },
  {
   "cell_type": "code",
   "execution_count": 127,
   "metadata": {},
   "outputs": [
    {
     "name": "stdout",
     "output_type": "stream",
     "text": [
      "(0, 6){'weight': 2}\n",
      "(0, 2){'weight': 4}\n",
      "(0, 1){'weight': 6}\n",
      "(0, 7){'weight': 2}\n",
      "(1, 5){'weight': 2}\n",
      "(3, 5){'weight': 3}\n",
      "(3, 10){'weight': 7}\n",
      "(3, 7){'weight': 7}\n",
      "(4, 10){'weight': 1}\n",
      "(5, 10){'weight': 4}\n",
      "(6, 8){'weight': 2}\n",
      "(7, 9){'weight': 6}\n",
      "(7, 8){'weight': 1}\n"
     ]
    }
   ],
   "source": [
    "for e in g.edges:\n",
    "    print(str(e) + str(g[e[0]][e[1]]))"
   ]
  },
  {
   "cell_type": "code",
   "execution_count": 132,
   "metadata": {},
   "outputs": [],
   "source": [
    "\"\"\"Metodo auxiliar para encontrar el siguiente nodo a analizar\"\"\"\n",
    "def getNext(g, visited):    \n",
    "    dists = {u:v['dis'] for u,v in g.nodes.data() if u not in visited and v['dis'] !=-1}\n",
    "    return min(dists, key=dists.get)\n",
    "\n",
    "\"\"\"Metodo auxiliar para cambiar los valores de las distancias sobre la grafica de distancias\"\"\"\n",
    "def updateDist(g, node):\n",
    "    distToNode = g.nodes[node]['dis']\n",
    "    for nbr in g[node]:\n",
    "        distFromNode = distToNode + g.edges[node, nbr]['weight']\n",
    "        if(g.nodes[nbr]['dis'] == -1 or g.nodes[nbr]['dis'] > distFromNode):\n",
    "            g.nodes[nbr]['dis'] = distFromNode"
   ]
  },
  {
   "cell_type": "code",
   "execution_count": 139,
   "metadata": {},
   "outputs": [],
   "source": [
    "\"\"\"regresa una lista o diccionario con las distancias\n",
    "   (suma de pesos sobre el camino) del nodo ini a todos\n",
    "   los otros nodos\"\"\"\n",
    "def dijkstra(g, ini):\n",
    "    if(ini not in g): \n",
    "        print('nodo no encontrado en la grafica')\n",
    "        return 0\n",
    "    \n",
    "    # crea una nueva grafica para guardar las distancias \"pathG\"\n",
    "    pathG = nx.Graph(g);\n",
    "    \n",
    "    \n",
    "    #agrega el atribto de distancia a todos los nodos\n",
    "    #usa 0 para el nodo de inicio y -1 para infinito\n",
    "    for n in pathG.nodes:\n",
    "        if(n == ini): \n",
    "            pathG.nodes[n]['dis'] = 0\n",
    "        else:\n",
    "            pathG.nodes[n]['dis'] = -1       \n",
    "\n",
    "    visited = []\n",
    "    while(set(visited) != set(g.nodes)):\n",
    "        nextNode = getNext(pathG, visited)\n",
    "        \n",
    "        visited.append(nextNode)\n",
    "        \n",
    "        updateDist(pathG, nextNode)\n",
    "    return pathG\n",
    "        \n",
    "def pintaGraficaDijkstra(g):\n",
    "    pass\n",
    "    \n",
    "    \n",
    "def pintaGrafica(g):\n",
    "    #fija la posicion de los nodos\n",
    "    ps = nx.spring_layout(g)\n",
    "    #pinta los nodos con sus nombres\n",
    "    nx.draw(g, pos=ps ,with_labels=True)\n",
    "    \n",
    "    #crea diccionario de edge:weight para poner en las aristas el peso\n",
    "    ed_labels = { (u,v):w['weight'] for u, v, w in g.edges.data()}\n",
    "    \n",
    "    nx.draw_networkx_edge_labels(g, pos=ps, edge_labels=ed_labels)\n",
    "    "
   ]
  },
  {
   "cell_type": "code",
   "execution_count": 140,
   "metadata": {},
   "outputs": [
    {
     "data": {
      "text/plain": [
       "{(0, 6): 2,\n",
       " (0, 2): 4,\n",
       " (0, 1): 6,\n",
       " (0, 7): 2,\n",
       " (1, 5): 2,\n",
       " (3, 5): 3,\n",
       " (3, 10): 7,\n",
       " (3, 7): 7,\n",
       " (4, 10): 1,\n",
       " (5, 10): 4,\n",
       " (6, 8): 2,\n",
       " (7, 9): 6,\n",
       " (7, 8): 1}"
      ]
     },
     "execution_count": 140,
     "metadata": {},
     "output_type": "execute_result"
    }
   ],
   "source": [
    "list(g.edges.data())\n",
    "ed_labels = {(u,v):w['weight'] for u, v, w in g.edges.data()}\n",
    "ed_labels"
   ]
  },
  {
   "cell_type": "markdown",
   "metadata": {},
   "source": [
    "1) Create a set sptSet (shortest path tree set) that keeps track of vertices included in shortest path tree, i.e., whose minimum distance from source is calculated and finalized. Initially, this set is empty.\n",
    "\n",
    "2) Assign a distance value to all vertices in the input graph. Initialize all distance values as INFINITE. Assign distance value as 0 for the source vertex so that it is picked first.\n",
    "\n",
    "3) While sptSet doesn’t include all vertices\n",
    "\n",
    "….a) Pick a vertex u which is not there in sptSet and has minimum distance value.\n",
    "\n",
    "….b) Include u to sptSet.\n",
    "\n",
    "….c) Update distance value of all adjacent vertices of u. To update the distance values, iterate through all adjacent vertices. For every adjacent vertex v, if sum of distance value of u (from source) and weight of edge u-v, is less than the distance value of v, then update the distance value of v."
   ]
  },
  {
   "cell_type": "code",
   "execution_count": 141,
   "metadata": {},
   "outputs": [],
   "source": [
    "path = dijkstra(g,0)"
   ]
  },
  {
   "cell_type": "code",
   "execution_count": 142,
   "metadata": {},
   "outputs": [
    {
     "data": {
      "text/plain": [
       "[(0, {'dis': 0}),\n",
       " (1, {'dis': 6}),\n",
       " (2, {'dis': 4}),\n",
       " (3, {'dis': 9}),\n",
       " (4, {'dis': 13}),\n",
       " (5, {'dis': 8}),\n",
       " (6, {'dis': 2}),\n",
       " (7, {'dis': 2}),\n",
       " (8, {'dis': 3}),\n",
       " (9, {'dis': 8}),\n",
       " (10, {'dis': 12})]"
      ]
     },
     "execution_count": 142,
     "metadata": {},
     "output_type": "execute_result"
    },
    {
     "data": {
      "image/png": "[encoded data removed]",
      "text/plain": [
       "<Figure size 432x288 with 1 Axes>"
      ]
     },
     "metadata": {},
     "output_type": "display_data"
    }
   ],
   "source": [
    "pintaGrafica(path)\n",
    "list(path.nodes.data())"
   ]
  },
  {
   "cell_type": "code",
   "execution_count": 143,
   "metadata": {},
   "outputs": [
    {
     "data": {
      "text/plain": [
       "0"
      ]
     },
     "execution_count": 143,
     "metadata": {},
     "output_type": "execute_result"
    }
   ],
   "source": [
    "list(path.nodes.data())\n",
    "wiri = getNext(path, [])\n",
    "wiri"
   ]
  },
  {
   "cell_type": "code",
   "execution_count": 144,
   "metadata": {},
   "outputs": [
    {
     "data": {
      "text/plain": [
       "False"
      ]
     },
     "execution_count": 144,
     "metadata": {},
     "output_type": "execute_result"
    }
   ],
   "source": [
    "a = [1, 2, 3, 4, 5]\n",
    "b = [5,4,-1,2,3,1]\n",
    "set(a) == set(b)\n"
   ]
  },
  {
   "cell_type": "code",
   "execution_count": 145,
   "metadata": {},
   "outputs": [
    {
     "data": {
      "text/plain": [
       "{0, 1, 2, 3, 4, 5, 6, 7, 8, 9, 10}"
      ]
     },
     "execution_count": 145,
     "metadata": {},
     "output_type": "execute_result"
    }
   ],
   "source": [
    "set(g.nodes)"
   ]
  },
  {
   "cell_type": "code",
   "execution_count": 146,
   "metadata": {},
   "outputs": [
    {
     "data": {
      "text/plain": [
       "[(0, {'dis': 0}),\n",
       " (1, {'dis': 6}),\n",
       " (2, {'dis': 4}),\n",
       " (3, {'dis': 9}),\n",
       " (4, {'dis': 13}),\n",
       " (5, {'dis': 8}),\n",
       " (6, {'dis': 2}),\n",
       " (7, {'dis': 2}),\n",
       " (8, {'dis': 3}),\n",
       " (9, {'dis': 8}),\n",
       " (10, {'dis': 12})]"
      ]
     },
     "execution_count": 146,
     "metadata": {},
     "output_type": "execute_result"
    }
   ],
   "source": [
    "list(path.nodes.data())"
   ]
  },
  {
   "cell_type": "code",
   "execution_count": 116,
   "metadata": {},
   "outputs": [
    {
     "data": {
      "text/plain": [
       "0"
      ]
     },
     "execution_count": 116,
     "metadata": {},
     "output_type": "execute_result"
    }
   ],
   "source": [
    "path.nodes[0]['dis']"
   ]
  },
  {
   "cell_type": "code",
   "execution_count": null,
   "metadata": {},
   "outputs": [],
   "source": []
  }
 ],
 "metadata": {
  "kernelspec": {
   "display_name": "Python 3",
   "language": "python",
   "name": "python3"
  },
  "language_info": {
   "codemirror_mode": {
    "name": "ipython",
    "version": 3
   },
   "file_extension": ".py",
   "mimetype": "text/x-python",
   "name": "python",
   "nbconvert_exporter": "python",
   "pygments_lexer": "ipython3",
   "version": "3.6.6"
  }
 },
 "nbformat": 4,
 "nbformat_minor": 2
}
