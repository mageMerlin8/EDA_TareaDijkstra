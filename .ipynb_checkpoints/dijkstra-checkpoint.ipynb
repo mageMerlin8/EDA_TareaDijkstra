{
 "cells": [
  {
   "cell_type": "markdown",
   "metadata": {},
   "source": [
    "# Gráficas, Dijkstra y Floyd"
   ]
  },
  {
   "cell_type": "code",
   "execution_count": 46,
   "metadata": {},
   "outputs": [],
   "source": [
    "import networkx as nx\n",
    "import random as rnd"
   ]
  },
  {
   "cell_type": "code",
   "execution_count": 47,
   "metadata": {},
   "outputs": [],
   "source": [
    "g = nx.Graph()"
   ]
  },
  {
   "cell_type": "code",
   "execution_count": 48,
   "metadata": {},
   "outputs": [],
   "source": [
    "g.add_nodes_from((i for i in range (10)))"
   ]
  },
  {
   "cell_type": "code",
   "execution_count": 49,
   "metadata": {},
   "outputs": [
    {
     "data": {
      "text/plain": [
       "[0, 1, 2, 3, 4, 5, 6, 7, 8, 9]"
      ]
     },
     "execution_count": 49,
     "metadata": {},
     "output_type": "execute_result"
    }
   ],
   "source": [
    "list(g.nodes)"
   ]
  },
  {
   "cell_type": "code",
   "execution_count": 50,
   "metadata": {},
   "outputs": [],
   "source": [
    "lisEd = [(9,7),(7,8),(8,6),(6,0),(0,2),(0,1),(1,5),(5,3),(5,10),(3,10),(10,4),(7,0),(7,3)];"
   ]
  },
  {
   "cell_type": "code",
   "execution_count": 51,
   "metadata": {},
   "outputs": [],
   "source": [
    "for edge in lisEd:\n",
    "    g.add_edge(edge[0], edge[1], weight = rnd.randint(1,9))"
   ]
  },
  {
   "cell_type": "code",
   "execution_count": 52,
   "metadata": {},
   "outputs": [
    {
     "data": {
      "text/plain": [
       "[(0, 6),\n",
       " (0, 2),\n",
       " (0, 1),\n",
       " (0, 7),\n",
       " (1, 5),\n",
       " (3, 5),\n",
       " (3, 10),\n",
       " (3, 7),\n",
       " (4, 10),\n",
       " (5, 10),\n",
       " (6, 8),\n",
       " (7, 9),\n",
       " (7, 8)]"
      ]
     },
     "execution_count": 52,
     "metadata": {},
     "output_type": "execute_result"
    }
   ],
   "source": [
    "list(g.edges,)"
   ]
  },
  {
   "cell_type": "code",
   "execution_count": 53,
   "metadata": {},
   "outputs": [
    {
     "data": {
      "image/png": "[encoded data removed]",
      "text/plain": [
       "<Figure size 432x288 with 1 Axes>"
      ]
     },
     "metadata": {},
     "output_type": "display_data"
    }
   ],
   "source": [
    "nx.draw(g, with_labels=True, edge_labels=True)"
   ]
  },
  {
   "cell_type": "code",
   "execution_count": 54,
   "metadata": {},
   "outputs": [
    {
     "data": {
      "text/plain": [
       "True"
      ]
     },
     "execution_count": 54,
     "metadata": {},
     "output_type": "execute_result"
    }
   ],
   "source": [
    " 2 in g"
   ]
  },
  {
   "cell_type": "code",
   "execution_count": 55,
   "metadata": {},
   "outputs": [
    {
     "name": "stdout",
     "output_type": "stream",
     "text": [
      "(0, 6){'weight': 7}\n",
      "(0, 2){'weight': 9}\n",
      "(0, 1){'weight': 2}\n",
      "(0, 7){'weight': 4}\n",
      "(1, 5){'weight': 5}\n",
      "(3, 5){'weight': 2}\n",
      "(3, 10){'weight': 3}\n",
      "(3, 7){'weight': 8}\n",
      "(4, 10){'weight': 5}\n",
      "(5, 10){'weight': 9}\n",
      "(6, 8){'weight': 6}\n",
      "(7, 9){'weight': 8}\n",
      "(7, 8){'weight': 1}\n"
     ]
    }
   ],
   "source": [
    "for e in g.edges:\n",
    "    print(str(e) + str(g[e[0]][e[1]]))"
   ]
  },
  {
   "cell_type": "code",
   "execution_count": 73,
   "metadata": {},
   "outputs": [],
   "source": [
    "\"\"\"Metodo auxiliar para encontrar el siguiente nodo a analizar\"\"\"\n",
    "\"\"\"def getNext(g, visited):\n",
    "    resp = -1\n",
    "    for n in g:\n",
    "        if(n not in visited):\n",
    "            if(resp == -1): \n",
    "                resp = n\n",
    "            else:\n",
    "                if(g.nodes[n] != -1 and g.nodes[n] ):\n",
    "                    pass\n",
    "   \"\"\"         \n",
    "\"\"\"regresa una lista o diccionario con las distancias\n",
    "   (suma de pesos sobre el camino) del nodo ini a todos\n",
    "   los otros nodos\"\"\"\n",
    "def dijkstra(g, ini):\n",
    "    if(ini not in g): \n",
    "        print('nodo no encontrado en la grafica')\n",
    "        return 0\n",
    "    # crea una nueva grafica para guardar las distancias\n",
    "    pathG = nx.Graph(g);\n",
    "    #pathG.add_nodes_from(g)\n",
    "    #pathG.add_weighted_edges_from(list(g.edges.data()))\n",
    "    nx.draw(pathG, with_labels=True, edge_labels=True )\n",
    "    for e in pathG.edges:\n",
    "        print(str(e) + str(pathG[e[0]][e[1]]))\n",
    "    #agrega el atribto de distancia a todos los nodos\n",
    "    #usa 0 para el nodo de inicio y -1 para infinito\n",
    "    for n in pathG.nodes:\n",
    "        if(n == ini): \n",
    "            pathG.nodes[n]['dis'] = 0\n",
    "        else:\n",
    "            pathG.nodes[n]['dis'] = -1\n",
    "                    \n",
    "    dictDist = {}\n",
    "    visited = []\n",
    "    "
   ]
  },
  {
   "cell_type": "markdown",
   "metadata": {},
   "source": [
    "1) Create a set sptSet (shortest path tree set) that keeps track of vertices included in shortest path tree, i.e., whose minimum distance from source is calculated and finalized. Initially, this set is empty.\n",
    "\n",
    "2) Assign a distance value to all vertices in the input graph. Initialize all distance values as INFINITE. Assign distance value as 0 for the source vertex so that it is picked first.\n",
    "\n",
    "3) While sptSet doesn’t include all vertices\n",
    "\n",
    "….a) Pick a vertex u which is not there in sptSet and has minimum distance value.\n",
    "\n",
    "….b) Include u to sptSet.\n",
    "\n",
    "….c) Update distance value of all adjacent vertices of u. To update the distance values, iterate through all adjacent vertices. For every adjacent vertex v, if sum of distance value of u (from source) and weight of edge u-v, is less than the distance value of v, then update the distance value of v."
   ]
  },
  {
   "cell_type": "code",
   "execution_count": 74,
   "metadata": {},
   "outputs": [
    {
     "name": "stdout",
     "output_type": "stream",
     "text": [
      "(0, 6){'weight': 7}\n",
      "(0, 2){'weight': 9}\n",
      "(0, 1){'weight': 2}\n",
      "(0, 7){'weight': 4}\n",
      "(1, 5){'weight': 5}\n",
      "(3, 5){'weight': 2}\n",
      "(3, 10){'weight': 3}\n",
      "(3, 7){'weight': 8}\n",
      "(4, 10){'weight': 5}\n",
      "(5, 10){'weight': 9}\n",
      "(6, 8){'weight': 6}\n",
      "(7, 9){'weight': 8}\n",
      "(7, 8){'weight': 1}\n"
     ]
    },
    {
     "data": {
      "image/png": "[encoded data removed]",
      "text/plain": [
       "<Figure size 432x288 with 1 Axes>"
      ]
     },
     "metadata": {},
     "output_type": "display_data"
    }
   ],
   "source": [
    "dijkstra(g,0)"
   ]
  },
  {
   "cell_type": "code",
   "execution_count": null,
   "metadata": {},
   "outputs": [],
   "source": []
  },
  {
   "cell_type": "code",
   "execution_count": 60,
   "metadata": {},
   "outputs": [
    {
     "data": {
      "text/plain": [
       "'Name: \\nType: Graph\\nNumber of nodes: 11\\nNumber of edges: 13\\nAverage degree:   2.3636'"
      ]
     },
     "execution_count": 60,
     "metadata": {},
     "output_type": "execute_result"
    }
   ],
   "source": [
    "nx.info(g)"
   ]
  },
  {
   "cell_type": "code",
   "execution_count": 64,
   "metadata": {},
   "outputs": [
    {
     "data": {
      "text/plain": [
       "[(0, 6, {'weight': 7}),\n",
       " (0, 2, {'weight': 9}),\n",
       " (0, 1, {'weight': 2}),\n",
       " (0, 7, {'weight': 4}),\n",
       " (1, 5, {'weight': 5}),\n",
       " (3, 5, {'weight': 2}),\n",
       " (3, 10, {'weight': 3}),\n",
       " (3, 7, {'weight': 8}),\n",
       " (4, 10, {'weight': 5}),\n",
       " (5, 10, {'weight': 9}),\n",
       " (6, 8, {'weight': 6}),\n",
       " (7, 9, {'weight': 8}),\n",
       " (7, 8, {'weight': 1})]"
      ]
     },
     "execution_count": 64,
     "metadata": {},
     "output_type": "execute_result"
    }
   ],
   "source": [
    "list(g.edges.data())"
   ]
  },
  {
   "cell_type": "code",
   "execution_count": null,
   "metadata": {},
   "outputs": [],
   "source": []
  }
 ],
 "metadata": {
  "kernelspec": {
   "display_name": "Python 3",
   "language": "python",
   "name": "python3"
  },
  "language_info": {
   "codemirror_mode": {
    "name": "ipython",
    "version": 3
   },
   "file_extension": ".py",
   "mimetype": "text/x-python",
   "name": "python",
   "nbconvert_exporter": "python",
   "pygments_lexer": "ipython3",
   "version": "3.6.5"
  }
 },
 "nbformat": 4,
 "nbformat_minor": 2
}
