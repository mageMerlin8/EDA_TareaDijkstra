{
 "cells": [
  {
   "cell_type": "markdown",
   "metadata": {},
   "source": [
    "# Gráficas, Dijkstra y Floyd"
   ]
  },
  {
   "cell_type": "code",
   "execution_count": 51,
   "metadata": {},
   "outputs": [],
   "source": [
    "import networkx as nx\n",
    "import random as rnd\n",
    "import matplotlib.pyplot as plt"
   ]
  },
  {
   "cell_type": "code",
   "execution_count": 52,
   "metadata": {},
   "outputs": [],
   "source": [
    "g = nx.Graph()"
   ]
  },
  {
   "cell_type": "code",
   "execution_count": 53,
   "metadata": {},
   "outputs": [],
   "source": [
    "g.add_nodes_from((i for i in range (10)))"
   ]
  },
  {
   "cell_type": "code",
   "execution_count": 54,
   "metadata": {},
   "outputs": [
    {
     "data": {
      "text/plain": [
       "[0, 1, 2, 3, 4, 5, 6, 7, 8, 9]"
      ]
     },
     "execution_count": 54,
     "metadata": {},
     "output_type": "execute_result"
    }
   ],
   "source": [
    "list(g.nodes)"
   ]
  },
  {
   "cell_type": "code",
   "execution_count": 55,
   "metadata": {},
   "outputs": [],
   "source": [
    "lisEd = [(9,7),(7,8),(8,6),(6,0),(0,2),(0,1),(1,5),(5,3),(5,10),(3,10),(10,4),(7,0),(7,3)];"
   ]
  },
  {
   "cell_type": "code",
   "execution_count": 56,
   "metadata": {},
   "outputs": [],
   "source": [
    "for edge in lisEd:\n",
    "    g.add_edge(edge[0], edge[1], weight = rnd.randint(1,9))"
   ]
  },
  {
   "cell_type": "code",
   "execution_count": 112,
   "metadata": {},
   "outputs": [
    {
     "data": {
      "text/plain": [
       "[(0, 6, {'weight': 3}),\n",
       " (0, 2, {'weight': 6}),\n",
       " (0, 1, {'weight': 4}),\n",
       " (0, 7, {'weight': 6}),\n",
       " (1, 5, {'weight': 9}),\n",
       " (3, 5, {'weight': 9}),\n",
       " (3, 10, {'weight': 9}),\n",
       " (3, 7, {'weight': 5}),\n",
       " (4, 10, {'weight': 8}),\n",
       " (5, 10, {'weight': 9}),\n",
       " (6, 8, {'weight': 7}),\n",
       " (7, 9, {'weight': 7}),\n",
       " (7, 8, {'weight': 7})]"
      ]
     },
     "execution_count": 112,
     "metadata": {},
     "output_type": "execute_result"
    }
   ],
   "source": [
    "list(g.edges.data())"
   ]
  },
  {
   "cell_type": "code",
   "execution_count": 60,
   "metadata": {},
   "outputs": [
    {
     "name": "stdout",
     "output_type": "stream",
     "text": [
      "(0, 6){'weight': 3}\n",
      "(0, 2){'weight': 6}\n",
      "(0, 1){'weight': 4}\n",
      "(0, 7){'weight': 6}\n",
      "(1, 5){'weight': 9}\n",
      "(3, 5){'weight': 9}\n",
      "(3, 10){'weight': 9}\n",
      "(3, 7){'weight': 5}\n",
      "(4, 10){'weight': 8}\n",
      "(5, 10){'weight': 9}\n",
      "(6, 8){'weight': 7}\n",
      "(7, 9){'weight': 7}\n",
      "(7, 8){'weight': 7}\n"
     ]
    }
   ],
   "source": [
    "for e in g.edges:\n",
    "    print(str(e) + str(g[e[0]][e[1]]))"
   ]
  },
  {
   "cell_type": "code",
   "execution_count": 103,
   "metadata": {},
   "outputs": [],
   "source": [
    "\"\"\"regresa una lista o diccionario con las distancias\n",
    "   (suma de pesos sobre el camino) del nodo ini a todos\n",
    "   los otros nodos\"\"\"\n",
    "def dijkstra(g, ini):\n",
    "    if(ini not in g): \n",
    "        print('nodo no encontrado en la grafica')\n",
    "        return 0\n",
    "    \n",
    "    # crea una nueva grafica para guardar las distancias \"pathG\"\n",
    "    pathG = nx.Graph(g);\n",
    "    \n",
    "    \n",
    "    #agrega el atribto de distancia a todos los nodos\n",
    "    #usa 0 para el nodo de inicio y -1 para infinito\n",
    "    for n in pathG.nodes:\n",
    "        if(n == ini): \n",
    "            pathG.nodes[n]['dis'] = 0\n",
    "        else:\n",
    "            pathG.nodes[n]['dis'] = -1       \n",
    "\n",
    "    visited = []\n",
    "    while(set(visited) != set(g.nodes)):\n",
    "        nextNode = getNext(pathG, visited)\n",
    "        \n",
    "        visited.append(nextNode)\n",
    "        \n",
    "        updateDist(pathG, nextNode)\n",
    "    return pathG\n",
    "        \n",
    "def pintaGraficaDijkstra(g):\n",
    "    \n",
    "    dist = [v['dis'] for u,v in g.nodes.data() ]\n",
    "    labs = {u:str(v['dis']) for u,v in g.nodes.data() }\n",
    "    print(dist)    \n",
    "    print(labs)\n",
    "    \n",
    "    #fija la posicion de los nodos\n",
    "    ps = nx.spring_layout(g)\n",
    "    #pinta los nodos con sus nombres\n",
    "    nx.draw(g, pos=ps , node_color = dist, cmap = plt.cm.Blues)\n",
    "    nx.draw_networkx_labels(g, pos = ps, labels=labs)\n",
    "    \n",
    "    #crea diccionario de edge:weight para poner el peso sobre las aristas\n",
    "    ed_labels = { (u,v):w['weight'] for u, v, w in g.edges.data()}\n",
    "    \n",
    "    nx.draw_networkx_edge_labels(g, pos=ps, edge_labels=ed_labels)\n",
    "    \n",
    "    \n",
    "def pintaGrafica(g, labs=None):\n",
    "    #fija la posicion de los nodos\n",
    "    ps = nx.spring_layout(g)\n",
    "    #pinta los nodos con sus nombres\n",
    "    nx.draw(g, pos=ps ,with_labels=True)\n",
    "    \n",
    "    #crea diccionario de edge:weight para poner en las aristas el peso\n",
    "    ed_labels = { (u,v):w['weight'] for u, v, w in g.edges.data()}\n",
    "    \n",
    "    nx.draw_networkx_edge_labels(g, pos=ps, edge_labels=ed_labels)\n",
    "    \n",
    "\"\"\"Metodo auxiliar para encontrar el siguiente nodo a analizar\"\"\"\n",
    "def getNext(g, visited):    \n",
    "    dists = {u:v['dis'] for u,v in g.nodes.data() if u not in visited and v['dis'] !=-1}\n",
    "    return min(dists, key=dists.get)\n",
    "\n",
    "\"\"\"Metodo auxiliar para cambiar los valores de las distancias sobre la grafica de distancias\"\"\"\n",
    "def updateDist(g, node):\n",
    "    distToNode = g.nodes[node]['dis']\n",
    "    for nbr in g[node]:\n",
    "        distFromNode = distToNode + g.edges[node, nbr]['weight']\n",
    "        if(g.nodes[nbr]['dis'] == -1 or g.nodes[nbr]['dis'] > distFromNode):\n",
    "            g.nodes[nbr]['dis'] = distFromNode"
   ]
  },
  {
   "cell_type": "code",
   "execution_count": 104,
   "metadata": {},
   "outputs": [
    {
     "data": {
      "text/plain": [
       "{(0, 6): 3,\n",
       " (0, 2): 6,\n",
       " (0, 1): 4,\n",
       " (0, 7): 6,\n",
       " (1, 5): 9,\n",
       " (3, 5): 9,\n",
       " (3, 10): 9,\n",
       " (3, 7): 5,\n",
       " (4, 10): 8,\n",
       " (5, 10): 9,\n",
       " (6, 8): 7,\n",
       " (7, 9): 7,\n",
       " (7, 8): 7}"
      ]
     },
     "execution_count": 104,
     "metadata": {},
     "output_type": "execute_result"
    }
   ],
   "source": [
    "list(g.edges.data())\n",
    "ed_labels = {(u,v):w['weight'] for u, v, w in g.edges.data()}\n",
    "ed_labels"
   ]
  },
  {
   "cell_type": "code",
   "execution_count": 105,
   "metadata": {},
   "outputs": [],
   "source": [
    "path = dijkstra(g,0)"
   ]
  },
  {
   "cell_type": "code",
   "execution_count": 111,
   "metadata": {},
   "outputs": [
    {
     "name": "stdout",
     "output_type": "stream",
     "text": [
      "[0, 4, 6, 11, 28, 13, 3, 6, 10, 13, 20]\n",
      "{0: '0', 1: '4', 2: '6', 3: '11', 4: '28', 5: '13', 6: '3', 7: '6', 8: '10', 9: '13', 10: '20'}\n"
     ]
    },
    {
     "data": {
      "image/png": "[encoded data removed]",
      "text/plain": [
       "<Figure size 432x288 with 1 Axes>"
      ]
     },
     "metadata": {},
     "output_type": "display_data"
    }
   ],
   "source": [
    "pintaGraficaDijkstra(path)"
   ]
  },
  {
   "cell_type": "code",
   "execution_count": 110,
   "metadata": {},
   "outputs": [
    {
     "data": {
      "image/png": "[encoded data removed]",
      "text/plain": [
       "<Figure size 432x288 with 1 Axes>"
      ]
     },
     "metadata": {},
     "output_type": "display_data"
    }
   ],
   "source": [
    "pintaGrafica(path)"
   ]
  },
  {
   "cell_type": "code",
   "execution_count": null,
   "metadata": {},
   "outputs": [],
   "source": []
  }
 ],
 "metadata": {
  "kernelspec": {
   "display_name": "Python 3",
   "language": "python",
   "name": "python3"
  },
  "language_info": {
   "codemirror_mode": {
    "name": "ipython",
    "version": 3
   },
   "file_extension": ".py",
   "mimetype": "text/x-python",
   "name": "python",
   "nbconvert_exporter": "python",
   "pygments_lexer": "ipython3",
   "version": "3.6.6"
  }
 },
 "nbformat": 4,
 "nbformat_minor": 2
}
