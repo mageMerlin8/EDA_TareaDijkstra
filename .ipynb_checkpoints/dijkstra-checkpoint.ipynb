{
 "cells": [
  {
   "cell_type": "markdown",
   "metadata": {},
   "source": [
    "# Gráficas, Dijkstra y Floyd"
   ]
  },
  {
   "cell_type": "code",
   "execution_count": 51,
   "metadata": {},
   "outputs": [],
   "source": [
    "import networkx as nx\n",
    "import random as rnd"
   ]
  },
  {
   "cell_type": "code",
   "execution_count": 52,
   "metadata": {},
   "outputs": [],
   "source": [
    "g = nx.Graph()"
   ]
  },
  {
   "cell_type": "code",
   "execution_count": 53,
   "metadata": {},
   "outputs": [],
   "source": [
    "g.add_nodes_from((i for i in range (10)))"
   ]
  },
  {
   "cell_type": "code",
   "execution_count": 54,
   "metadata": {},
   "outputs": [
    {
     "data": {
      "text/plain": [
       "[0, 1, 2, 3, 4, 5, 6, 7, 8, 9]"
      ]
     },
     "execution_count": 54,
     "metadata": {},
     "output_type": "execute_result"
    }
   ],
   "source": [
    "list(g.nodes)"
   ]
  },
  {
   "cell_type": "code",
   "execution_count": 55,
   "metadata": {},
   "outputs": [],
   "source": [
    "lisEd = [(9,7),(7,8),(8,6),(6,0),(0,2),(0,1),(1,5),(5,3),(5,10),(3,10),(10,4),(7,0),(7,3)];"
   ]
  },
  {
   "cell_type": "code",
   "execution_count": 56,
   "metadata": {},
   "outputs": [],
   "source": [
    "for edge in lisEd:\n",
    "    g.add_edge(edge[0], edge[1], weight = rnd.randint(1,9))"
   ]
  },
  {
   "cell_type": "code",
   "execution_count": 57,
   "metadata": {},
   "outputs": [
    {
     "data": {
      "text/plain": [
       "[(0, 6),\n",
       " (0, 2),\n",
       " (0, 1),\n",
       " (0, 7),\n",
       " (1, 5),\n",
       " (3, 5),\n",
       " (3, 10),\n",
       " (3, 7),\n",
       " (4, 10),\n",
       " (5, 10),\n",
       " (6, 8),\n",
       " (7, 9),\n",
       " (7, 8)]"
      ]
     },
     "execution_count": 57,
     "metadata": {},
     "output_type": "execute_result"
    }
   ],
   "source": [
    "list(g.edges,)"
   ]
  },
  {
   "cell_type": "code",
   "execution_count": 59,
   "metadata": {},
   "outputs": [
    {
     "data": {
      "image/png": "[encoded data removed]",
      "text/plain": [
       "<Figure size 432x288 with 1 Axes>"
      ]
     },
     "metadata": {},
     "output_type": "display_data"
    }
   ],
   "source": [
    "nx.draw(g, with_labels=True, edge_labels=True)"
   ]
  },
  {
   "cell_type": "code",
   "execution_count": 60,
   "metadata": {},
   "outputs": [
    {
     "data": {
      "text/plain": [
       "True"
      ]
     },
     "execution_count": 60,
     "metadata": {},
     "output_type": "execute_result"
    }
   ],
   "source": [
    "2 in g"
   ]
  },
  {
   "cell_type": "code",
   "execution_count": 62,
   "metadata": {},
   "outputs": [
    {
     "name": "stdout",
     "output_type": "stream",
     "text": [
      "(0, 6){'weight': 1}\n",
      "(0, 2){'weight': 5}\n",
      "(0, 1){'weight': 1}\n",
      "(0, 7){'weight': 8}\n",
      "(1, 5){'weight': 1}\n",
      "(3, 5){'weight': 1}\n",
      "(3, 10){'weight': 2}\n",
      "(3, 7){'weight': 7}\n",
      "(4, 10){'weight': 1}\n",
      "(5, 10){'weight': 8}\n",
      "(6, 8){'weight': 2}\n",
      "(7, 9){'weight': 1}\n",
      "(7, 8){'weight': 5}\n"
     ]
    }
   ],
   "source": [
    "for e in g.edges:\n",
    "    print(str(e) + str(g[e[0]][e[1]]))"
   ]
  },
  {
   "cell_type": "code",
   "execution_count": 68,
   "metadata": {},
   "outputs": [],
   "source": [
    "\"\"\"regresa una lista o diccionario con las distancias\n",
    "   (suma de pesos sobre el camino) del nodo ini a todos\n",
    "   los otros nodos\"\"\"\n",
    "def dijkstra(g, ini):\n",
    "    pass"
   ]
  },
  {
   "cell_type": "code",
   "execution_count": null,
   "metadata": {},
   "outputs": [],
   "source": []
  }
 ],
 "metadata": {
  "kernelspec": {
   "display_name": "Python 3",
   "language": "python",
   "name": "python3"
  },
  "language_info": {
   "codemirror_mode": {
    "name": "ipython",
    "version": 3
   },
   "file_extension": ".py",
   "mimetype": "text/x-python",
   "name": "python",
   "nbconvert_exporter": "python",
   "pygments_lexer": "ipython3",
   "version": "3.6.6"
  }
 },
 "nbformat": 4,
 "nbformat_minor": 2
}
